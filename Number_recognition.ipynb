{
 "cells": [
  {
   "cell_type": "markdown",
   "id": "bda8644a",
   "metadata": {},
   "source": [
    "# Reconocimiento de números"
   ]
  },
  {
   "cell_type": "code",
   "execution_count": 14,
   "id": "2e68ad64",
   "metadata": {},
   "outputs": [],
   "source": [
    "import numpy\n",
    "import time #para calcular tiempos\n",
    "import scipy.special #para la función sigmoide\n",
    "import matplotlib.pyplot as plt #para representar las gráficas\n",
    "#para asegurarnos de que las gráficas estan en este cuaderno y no una ventana externa\n",
    "%matplotlib inline "
   ]
  },
  {
   "cell_type": "code",
   "execution_count": 2,
   "id": "82a8a56e",
   "metadata": {},
   "outputs": [],
   "source": [
    "#definicion de la clase \n",
    "class neuralNetwork:\n",
    "    #inicialización de la red neuronal\n",
    "    def __init__(self,nodosent,nodosocu,nodossal,aprendizaje):\n",
    "        #establecemos el numero de nodos para la capa de entrada, la oculta y la de salida (e,o,s respectivamente)\n",
    "        self.enodos=nodosent\n",
    "        self.onodos=nodosocu\n",
    "        self.snodos=nodossal\n",
    "        \n",
    "        #matrices de peso peo (peso entrada-coulta), pos (peso oculta-salida)\n",
    "        self.weo=numpy.random.normal(0.0, pow(self.onodos, -0.5),(self.onodos, self.enodos))\n",
    "        self.wos = numpy.random.normal(0.0, pow(self.snodos, -0.5),(self.snodos, self.onodos))\n",
    "\n",
    "        #tasa de aprendizaje\n",
    "        self.ta=aprendizaje\n",
    "        \n",
    "        #función de activación (sigmoide)\n",
    "        self.activacion_funcion= lambda x: scipy.special.expit(x)\n",
    "        \n",
    "        pass\n",
    "        \n",
    "    #función entrenamiento\n",
    "    def entrena(self, lista_entrada, lista_objetivo):\n",
    "        #convertimos las entradas y los objetivos en un array de 2 dimensiones\n",
    "        entradas = numpy.array(lista_entrada, ndmin=2).T\n",
    "        objetivos = numpy.array(lista_objetivo, ndmin=2).T\n",
    "        \n",
    "        #calculamos las entradas a la capa oculta\n",
    "        entrada_oculta = numpy.dot(self.weo, entradas)\n",
    "        #calculamos las salidas de la capa oculta\n",
    "        salida_oculta=self.activacion_funcion(entrada_oculta)\n",
    "        #calculamos las entradas de la capa final\n",
    "        entrada_final = numpy.dot(self.wos, salida_oculta)\n",
    "        #calculamos la salida de la capa final\n",
    "        salida_final = self.activacion_funcion(entrada_final)\n",
    "\n",
    "        #calculo de errores\n",
    "        errores_salida = objetivos - salida_final\n",
    "\n",
    "        #el error oculto es errores_salida, dividido entre los pesos y recombinado con los nodos ocultos (ver en la teoría capítulo 1)\n",
    "        errores_oculta=numpy.dot(self.wos.T, errores_salida)\n",
    "        \n",
    "        #actualización de los pesos entre la capa oculta y la final\n",
    "        self.wos += self.ta * numpy.dot((errores_salida *salida_final * (1.0 -salida_final)),numpy.transpose(salida_oculta))\n",
    "        \n",
    "        #actualizacion de los pesos entre la capa de entrada y la oculta\n",
    "        self.weo += self.ta * numpy.dot((errores_oculta *salida_oculta * (1.0 - salida_oculta)), numpy.transpose(entradas))\n",
    "\n",
    "    \n",
    "        pass\n",
    "    \n",
    "    #probamos la red neuronal\n",
    "    def prob(self,lista_entrada):\n",
    "        #convertimos las entradas en un array dimensión 2\n",
    "        entradas = numpy.array(lista_entrada, ndmin=2).T\n",
    "        \n",
    "        #calculamos la entrada de la capa oculta\n",
    "        entrada_oculta = numpy.dot(self.weo, entradas)\n",
    "        \n",
    "        #calculamos la salida de la capa oculta\n",
    "        salida_oculta = self.activacion_funcion(entrada_oculta)\n",
    "\n",
    "        #calcula la entrada en la capa final\n",
    "        entrada_final= numpy.dot(self.wos, salida_oculta)\n",
    "        #calcula la salida de la capa final\n",
    "        salida_final = self.activacion_funcion(entrada_final)\n",
    "\n",
    "        return salida_final"
   ]
  },
  {
   "cell_type": "code",
   "execution_count": 3,
   "id": "3f1d4473",
   "metadata": {},
   "outputs": [],
   "source": [
    "#numero de nodos en cada capa\n",
    "nodosent=784 #ya que las imágenes son de 28*28 píxeles\n",
    "nodosocu = 200\n",
    "nodossal = 10 #por tener 10 opciones de números\n",
    "\n",
    "#tasa aprendizaje\n",
    "aprendizaje=0.1"
   ]
  },
  {
   "cell_type": "markdown",
   "id": "5ede02e3",
   "metadata": {},
   "source": [
    "## Red neuronal con 60000 datos de entrenamiento"
   ]
  },
  {
   "cell_type": "code",
   "execution_count": 4,
   "id": "d8f2cf47",
   "metadata": {},
   "outputs": [
    {
     "name": "stdout",
     "output_type": "stream",
     "text": [
      "177.34344482421875\n"
     ]
    }
   ],
   "source": [
    "start1=time.time() #inicializamos el tiempo\n",
    "# ejemplo de red neuronal\n",
    "n = neuralNetwork(nodosent,nodosocu,nodossal,aprendizaje)\n",
    "\n",
    "#cargamos el archivo de los datos de entrenamiento\n",
    "archivo_datos=open(\"mnist_train.csv\",\"r\")\n",
    "lista_datos=archivo_datos.readlines()\n",
    "archivo_datos.close()\n",
    "\n",
    "\n",
    "for record in lista_datos:\n",
    "    #separamos los datos de las listas por las comas\n",
    "    valores=record.split(',')\n",
    "    #ponemos los valores en la escala que nos interesa\n",
    "    #los datos comienzan en la posición uno ya que la 0 es la respuesta correcta del número del cual se trata\n",
    "    entrada_escalada = (numpy.asfarray(valores[1:]) / 255.0 * 0.99)+0.01\n",
    "    #creamos los objetivos salida (todos los valores 0,01 menos el deseado que es 0,99)\n",
    "    objetivos = numpy.zeros(nodossal) + 0.01\n",
    "    objetivos[int(valores[0])]=0.99\n",
    "    n.entrena(entrada_escalada,objetivos)\n",
    "    pass\n",
    "tiempo1=time.time()-start1\n",
    "print(tiempo1)"
   ]
  },
  {
   "cell_type": "code",
   "execution_count": 5,
   "id": "9ea95d58",
   "metadata": {},
   "outputs": [],
   "source": [
    "#ahora vamos a poner a prueba la red neuronal\n",
    "archivo_test = open(\"mnist_test.csv\", 'r')\n",
    "lista_test = archivo_test.readlines()\n",
    "archivo_test.close()\n",
    "\n",
    "#creamos una lista vacía para llevar el tanteo de los aciertos y fallos\n",
    "tanteo=[]\n",
    "\n",
    "for record in lista_test:\n",
    "    #separamos en la lista por comas\n",
    "    valores = record.split(',')\n",
    "    #tomamos la etiqueta correcta\n",
    "    etiqueta_correcta = int(valores[0])\n",
    "    #escalamos las entradas\n",
    "    entradas = (numpy.asfarray(valores[1:]) / 255.0 * 0.99)+0.01\n",
    "    \n",
    "    salidas = n.prob(entradas)\n",
    "    #el mayor indice de salida corresponde a la etiqueta\n",
    "    etiqueta=numpy.argmax(salidas)\n",
    "    #añadimos a la lista tanteo un 1 si ha acertado y un 0 si no\n",
    "    if (etiqueta == etiqueta_correcta):\n",
    "        tanteo.append(1)\n",
    "    else:\n",
    "        tanteo.append(0)\n",
    "        pass\n",
    "    pass"
   ]
  },
  {
   "cell_type": "markdown",
   "id": "e21f185b",
   "metadata": {},
   "source": [
    "### Rendimiento de la red"
   ]
  },
  {
   "cell_type": "code",
   "execution_count": 6,
   "id": "4a970186",
   "metadata": {},
   "outputs": [
    {
     "name": "stdout",
     "output_type": "stream",
     "text": [
      "rendimiento=  0.959\n"
     ]
    }
   ],
   "source": [
    "tanteo_array=numpy.asarray(tanteo)\n",
    "print(\"rendimiento= \",tanteo_array.sum()/tanteo_array.size)"
   ]
  },
  {
   "cell_type": "markdown",
   "id": "a073ef29",
   "metadata": {},
   "source": [
    "## Red neuronal con 30000 datos de entrenamiento"
   ]
  },
  {
   "cell_type": "code",
   "execution_count": 7,
   "id": "7851bfd5",
   "metadata": {},
   "outputs": [
    {
     "name": "stdout",
     "output_type": "stream",
     "text": [
      "Tiempo de espera  80.07762575149536\n"
     ]
    }
   ],
   "source": [
    "start2=time.time()\n",
    "#red neuronal con menor entrenamiento\n",
    "n2 = neuralNetwork(nodosent,nodosocu,nodossal,aprendizaje)\n",
    "\n",
    "#cargamos el archivo de los datos de entrenamiento\n",
    "archivo_datos2=open(\"mnist_train2.csv\",\"r\")\n",
    "lista_datos2=archivo_datos2.readlines()\n",
    "archivo_datos2.close()\n",
    "\n",
    "\n",
    "for record in lista_datos2:\n",
    "    #separamos los datos de las listas por las comas\n",
    "    valores2=record.split(',')\n",
    "    #ponemos los valores en la escala que nos interesa\n",
    "    #los datos comienzan en la posición uno ya que la 0 es la respuesta correcta del número del cual se trata\n",
    "    entrada_escalada2 = (numpy.asfarray(valores2[1:]) / 255.0 * 0.99)+0.01\n",
    "    #creamos los objetivos salida (todos los valores 0,01 menos el deseado que es 0,99)\n",
    "    objetivos2 = numpy.zeros(nodossal) + 0.01\n",
    "    objetivos2[int(valores2[0])]=0.99\n",
    "    n2.entrena(entrada_escalada2,objetivos2)\n",
    "    pass\n",
    "tiempo2=time.time()-start2\n",
    "print(\"Tiempo de espera \",tiempo2)"
   ]
  },
  {
   "cell_type": "code",
   "execution_count": 8,
   "id": "ea16a6c9",
   "metadata": {},
   "outputs": [],
   "source": [
    "#ahora vamos a poner a prueba la red neuronal\n",
    "archivo_test = open(\"mnist_test.csv\", 'r')\n",
    "lista_test = archivo_test.readlines()\n",
    "archivo_test.close()\n",
    "\n",
    "#creamos una lista vacía para llevar el tanteo de los aciertos y fallos\n",
    "tanteo2=[]\n",
    "\n",
    "for record in lista_test:\n",
    "    #separamos en la lista por comas\n",
    "    valores = record.split(',')\n",
    "    #tomamos la etiqueta correcta\n",
    "    etiqueta_correcta = int(valores[0])\n",
    "    #escalamos las entradas\n",
    "    entradas = (numpy.asfarray(valores[1:]) / 255.0 * 0.99)+0.01\n",
    "    \n",
    "    salidas = n2.prob(entradas)\n",
    "    #el mayor indice de salida corresponde a la etiqueta\n",
    "    etiqueta2=numpy.argmax(salidas)\n",
    "    #añadimos a la lista tanteo un 1 si ha acertado y un 0 si no\n",
    "    if (etiqueta2 == etiqueta_correcta):\n",
    "        tanteo2.append(1)\n",
    "    else:\n",
    "        tanteo2.append(0)\n",
    "        pass\n",
    "    pass"
   ]
  },
  {
   "cell_type": "markdown",
   "id": "18453367",
   "metadata": {},
   "source": [
    "### Rendimiento de la red"
   ]
  },
  {
   "cell_type": "code",
   "execution_count": 9,
   "id": "0614e970",
   "metadata": {},
   "outputs": [
    {
     "name": "stdout",
     "output_type": "stream",
     "text": [
      "rendimiento=  0.9461\n"
     ]
    }
   ],
   "source": [
    "tanteo2_array=numpy.asarray(tanteo2)\n",
    "print(\"rendimiento= \",tanteo2_array.sum()/tanteo2_array.size)"
   ]
  },
  {
   "cell_type": "markdown",
   "id": "832b6a36",
   "metadata": {},
   "source": [
    "## Red neuronal con 25000 datos de entrenamiento"
   ]
  },
  {
   "cell_type": "code",
   "execution_count": 10,
   "id": "23343824",
   "metadata": {},
   "outputs": [
    {
     "name": "stdout",
     "output_type": "stream",
     "text": [
      "65.21252346038818\n"
     ]
    }
   ],
   "source": [
    "start3=time.time()\n",
    "#red neuronal con aún menor entrenamiento\n",
    "n3 = neuralNetwork(nodosent,nodosocu,nodossal,aprendizaje)\n",
    "\n",
    "#cargamos el archivo de los datos de entrenamiento\n",
    "archivo_datos3=open(\"mnist_train3.csv\",\"r\")\n",
    "lista_datos3=archivo_datos3.readlines()\n",
    "archivo_datos3.close()\n",
    "\n",
    "\n",
    "for record in lista_datos3:\n",
    "    #separamos los datos de las listas por las comas\n",
    "    valores3=record.split(',')\n",
    "    #ponemos los valores en la escala que nos interesa\n",
    "    #los datos comienzan en la posición uno ya que la 0 es la respuesta correcta del número del cual se trata\n",
    "    entrada_escalada3 = (numpy.asfarray(valores3[1:]) / 255.0 * 0.99)+0.01\n",
    "    #creamos los objetivos salida (todos los valores 0,01 menos el deseado que es 0,99)\n",
    "    objetivos3 = numpy.zeros(nodossal) + 0.01\n",
    "    objetivos3[int(valores2[0])]=0.99\n",
    "    n3.entrena(entrada_escalada3,objetivos3)\n",
    "    pass\n",
    "tiempo3=time.time()-start3\n",
    "print(tiempo3)"
   ]
  },
  {
   "cell_type": "code",
   "execution_count": 11,
   "id": "03331f00",
   "metadata": {},
   "outputs": [],
   "source": [
    "#ahora vamos a poner a prueba la red neuronal 25000 valores entrenamiento\n",
    "archivo_test = open(\"mnist_test.csv\", 'r')\n",
    "lista_test = archivo_test.readlines()\n",
    "archivo_test.close()\n",
    "\n",
    "#creamos una lista vacía para llevar el tanteo de los aciertos y fallos\n",
    "tanteo3=[]\n",
    "\n",
    "for record in lista_test:\n",
    "    #separamos en la lista por comas\n",
    "    valores = record.split(',')\n",
    "    #tomamos la etiqueta correcta\n",
    "    etiqueta_correcta = int(valores[0])\n",
    "    #escalamos las entradas\n",
    "    entradas = (numpy.asfarray(valores[1:]) / 255.0 * 0.99)+0.01\n",
    "    \n",
    "    salidas = n3.prob(entradas)\n",
    "    #el mayor indice de salida corresponde a la etiqueta\n",
    "    etiqueta3=numpy.argmax(salidas)\n",
    "    #añadimos a la lista tanteo un 1 si ha acertado y un 0 si no\n",
    "    if (etiqueta3 == etiqueta_correcta):\n",
    "        tanteo3.append(1)\n",
    "    else:\n",
    "        tanteo3.append(0)\n",
    "        pass\n",
    "    pass"
   ]
  },
  {
   "cell_type": "markdown",
   "id": "6d49c671",
   "metadata": {},
   "source": [
    "### Rendimiento de la red"
   ]
  },
  {
   "cell_type": "code",
   "execution_count": 12,
   "id": "834963c1",
   "metadata": {},
   "outputs": [
    {
     "name": "stdout",
     "output_type": "stream",
     "text": [
      "rendimiento=  0.1135\n"
     ]
    }
   ],
   "source": [
    "tanteo3_array=numpy.asarray(tanteo3)\n",
    "print(\"rendimiento= \",tanteo3_array.sum()/tanteo3_array.size)"
   ]
  },
  {
   "cell_type": "markdown",
   "id": "8d809918",
   "metadata": {},
   "source": [
    "### Probamos un ejemplo\n"
   ]
  },
  {
   "cell_type": "code",
   "execution_count": 87,
   "id": "26cf06ce",
   "metadata": {},
   "outputs": [
    {
     "data": {
      "text/plain": [
       "<matplotlib.image.AxesImage at 0x15ed40952e0>"
      ]
     },
     "execution_count": 87,
     "metadata": {},
     "output_type": "execute_result"
    },
    {
     "data": {
      "image/png": "[encoded data removed]",
      "text/plain": [
       "<Figure size 432x288 with 1 Axes>"
      ]
     },
     "metadata": {
      "needs_background": "light"
     },
     "output_type": "display_data"
    }
   ],
   "source": [
    "\n",
    "numerito=plt.imread(\"numerito.png\")\n",
    "matplotlib.pyplot.imshow(numerito, cmap='Greys',\n",
    "interpolation='None')"
   ]
  },
  {
   "cell_type": "code",
   "execution_count": 88,
   "id": "aa99d63a",
   "metadata": {},
   "outputs": [],
   "source": [
    "aux=[]\n",
    "for i in range(28):\n",
    "    for j in range(28):\n",
    "        if list(numerito[i][j]) == [0,0,0]:\n",
    "            aux.append(0)\n",
    "        else:\n",
    "            aux.append(1)\n",
    "numerito=aux"
   ]
  },
  {
   "cell_type": "code",
   "execution_count": 89,
   "id": "73383be0",
   "metadata": {},
   "outputs": [
    {
     "name": "stdout",
     "output_type": "stream",
     "text": [
      "La neurona 1 identifica un  8\n"
     ]
    }
   ],
   "source": [
    "salida1=n.prob(numerito)\n",
    "etiqueta1=numpy.argmax(salida1)\n",
    "print(\"La neurona 1 identifica un \",etiqueta1)"
   ]
  },
  {
   "cell_type": "code",
   "execution_count": 90,
   "id": "9fd6cdcb",
   "metadata": {},
   "outputs": [
    {
     "data": {
      "text/plain": [
       "array([[0.05254376],\n",
       "       [0.00808094],\n",
       "       [0.23534489],\n",
       "       [0.16179956],\n",
       "       [0.00182662],\n",
       "       [0.00478746],\n",
       "       [0.03916737],\n",
       "       [0.01318217],\n",
       "       [0.68976572],\n",
       "       [0.02614232]])"
      ]
     },
     "execution_count": 90,
     "metadata": {},
     "output_type": "execute_result"
    }
   ],
   "source": [
    "salida1"
   ]
  },
  {
   "cell_type": "code",
   "execution_count": 91,
   "id": "506631a9",
   "metadata": {},
   "outputs": [
    {
     "name": "stdout",
     "output_type": "stream",
     "text": [
      "La neurona 2 identifica un  8\n"
     ]
    }
   ],
   "source": [
    "salida2=n2.prob(numerito)\n",
    "etiqueta2=numpy.argmax(salida2)\n",
    "print(\"La neurona 2 identifica un \",etiqueta2)"
   ]
  },
  {
   "cell_type": "code",
   "execution_count": 92,
   "id": "dfd24e45",
   "metadata": {},
   "outputs": [
    {
     "data": {
      "text/plain": [
       "array([[0.00751387],\n",
       "       [0.01148243],\n",
       "       [0.05826516],\n",
       "       [0.26734774],\n",
       "       [0.01406597],\n",
       "       [0.06406031],\n",
       "       [0.1004568 ],\n",
       "       [0.07841877],\n",
       "       [0.45608918],\n",
       "       [0.00533981]])"
      ]
     },
     "execution_count": 92,
     "metadata": {},
     "output_type": "execute_result"
    }
   ],
   "source": [
    "salida2"
   ]
  },
  {
   "cell_type": "code",
   "execution_count": 93,
   "id": "85953f1e",
   "metadata": {},
   "outputs": [
    {
     "name": "stdout",
     "output_type": "stream",
     "text": [
      "La neurona 3 identifica un  1\n"
     ]
    }
   ],
   "source": [
    "salida3=n3.prob(numerito)\n",
    "etiqueta3=numpy.argmax(salida3)\n",
    "print(\"La neurona 3 identifica un \",etiqueta3)"
   ]
  },
  {
   "cell_type": "code",
   "execution_count": 94,
   "id": "58dfdb23",
   "metadata": {},
   "outputs": [
    {
     "data": {
      "text/plain": [
       "array([[0.0041372 ],\n",
       "       [0.99376719],\n",
       "       [0.00371865],\n",
       "       [0.01771332],\n",
       "       [0.00619594],\n",
       "       [0.01058926],\n",
       "       [0.00539206],\n",
       "       [0.00415083],\n",
       "       [0.00774786],\n",
       "       [0.00565311]])"
      ]
     },
     "execution_count": 94,
     "metadata": {},
     "output_type": "execute_result"
    }
   ],
   "source": [
    "salida3"
   ]
  },
  {
   "cell_type": "code",
   "execution_count": null,
   "id": "d656fffa",
   "metadata": {},
   "outputs": [],
   "source": []
  }
 ],
 "metadata": {
  "kernelspec": {
   "display_name": "Python 3",
   "language": "python",
   "name": "python3"
  },
  "language_info": {
   "codemirror_mode": {
    "name": "ipython",
    "version": 3
   },
   "file_extension": ".py",
   "mimetype": "text/x-python",
   "name": "python",
   "nbconvert_exporter": "python",
   "pygments_lexer": "ipython3",
   "version": "3.8.8"
  }
 },
 "nbformat": 4,
 "nbformat_minor": 5
}
