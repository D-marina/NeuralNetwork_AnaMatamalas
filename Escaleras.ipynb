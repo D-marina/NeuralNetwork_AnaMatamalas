{
 "cells": [
  {
   "cell_type": "code",
   "execution_count": 19,
   "id": "ed7e9042",
   "metadata": {},
   "outputs": [],
   "source": [
    "import numpy \n",
    "import time #para calcular tiempos\n",
    "import scipy.special #para la funcion sigmoide\n",
    "import matplotlib.pyplot as plt #para representar las gráficas\n",
    "#para asegurarnos de que las gráficas estan en este cuaderno y no una ventana externa\n",
    "%matplotlib inline \n"
   ]
  },
  {
   "cell_type": "code",
   "execution_count": 20,
   "id": "a0110950",
   "metadata": {},
   "outputs": [],
   "source": [
    "#definicion de la clase \n",
    "class neuralNetwork:\n",
    "    #inicialización de la red neuronal\n",
    "    def __init__(self,nodosent,nodosocu,nodossal,aprendizaje):\n",
    "        #establecemos el numero de nodos para la capa de entrada, la oculta y la de salida (e,o,s respectivamente)\n",
    "        self.enodos=nodosent\n",
    "        self.onodos=nodosocu\n",
    "        self.snodos=nodossal\n",
    "        \n",
    "        #matrices de peso peo (peso entrada coulta), pos (peso oculta salida)\n",
    "        self.weo=numpy.random.normal(0.0, pow(self.onodos, -0.5),(self.onodos, self.enodos))\n",
    "        self.wos = numpy.random.normal(0.0, pow(self.snodos, -0.5),(self.snodos, self.onodos))\n",
    "\n",
    "        #tasa de aprendizaje\n",
    "        self.ta=aprendizaje\n",
    "        \n",
    "        #función de activación (sigmoide)\n",
    "        self.activacion_funcion= lambda x: scipy.special.expit(x)\n",
    "        \n",
    "        pass\n",
    "        \n",
    "    #funcion entrenamiento\n",
    "    def entrena(self, lista_entrada, lista_objetivo):\n",
    "        #convertimos las entradas y los objetivos en un array de 2 dimensiones\n",
    "        entradas = numpy.array(lista_entrada, ndmin=2).T\n",
    "        objetivos = numpy.array(lista_objetivo, ndmin=2).T\n",
    "        \n",
    "        #calculamos las entradas a la capa oculta\n",
    "        entrada_oculta = numpy.dot(self.weo, entradas)\n",
    "        #calculamos las salidas de la capa oculta\n",
    "        salida_oculta=self.activacion_funcion(entrada_oculta)\n",
    "        #calculamos las entradas de la capa final\n",
    "        entrada_final = numpy.dot(self.wos, salida_oculta)\n",
    "        #calculamos la salida de la capa final\n",
    "        salida_final = self.activacion_funcion(entrada_final)\n",
    "\n",
    "        #calculo de errores\n",
    "        errores_salida = objetivos - salida_final\n",
    "\n",
    "        #el error oculto es errores_salida, dividido entre los pesos y recombinado con los nodos ocultos ESTO NO LO TERMINO DE PILLAR \n",
    "        errores_oculta=numpy.dot(self.wos.T, errores_salida)\n",
    "        \n",
    "        #actualizacion de los pesos entre la capa oculta y la final\n",
    "        self.wos += self.ta * numpy.dot((errores_salida *salida_final * (1.0 -salida_final)),numpy.transpose(salida_oculta))\n",
    "        \n",
    "        #actualizacion de los pesos entre la capa de entrada y la oculta\n",
    "        self.weo += self.ta * numpy.dot((errores_oculta *salida_oculta * (1.0 - salida_oculta)), numpy.transpose(entradas))\n",
    "\n",
    "    \n",
    "        pass\n",
    "    \n",
    "    #probamos la red neuronal\n",
    "    def prob(self,lista_entrada):\n",
    "        #convertimos las entradas en un array dimension 2\n",
    "        entradas = numpy.array(lista_entrada, ndmin=2).T\n",
    "        \n",
    "        #calculamos la entrada de la capa oculta\n",
    "        entrada_oculta = numpy.dot(self.weo, entradas)\n",
    "        \n",
    "        #calculamos la salida de la capa oculta\n",
    "        salida_oculta = self.activacion_funcion(entrada_oculta)\n",
    "\n",
    "        #calcula la entrada en la capa final\n",
    "        entrada_final= numpy.dot(self.wos, salida_oculta)\n",
    "        #calcula la salida de la capa final\n",
    "        salida_final = self.activacion_funcion(entrada_final)\n",
    "\n",
    "        return salida_final\n"
   ]
  },
  {
   "cell_type": "code",
   "execution_count": 21,
   "id": "ee390d7d",
   "metadata": {},
   "outputs": [],
   "source": [
    "#numero de nodos en cada capa\n",
    "nodosent=25\n",
    "nodosocu = 40\n",
    "nodossal = 2\n",
    "\n",
    "#tasa aprendizaje\n",
    "aprendizaje=0.1"
   ]
  },
  {
   "cell_type": "code",
   "execution_count": 22,
   "id": "e5666af1",
   "metadata": {},
   "outputs": [],
   "source": [
    "lista=[\"\"]\n",
    "for k in range(1,26):\n",
    "    au=\"SI\"+str(k)+\".png\"\n",
    "    lista.append(au)\n",
    "    au=\"NO\"+str(k)+\".png\"\n",
    "    lista.append(au)\n",
    "lista=numpy.delete(lista,0)\n",
    "\n",
    "datos=numpy.empty((50,26))\n",
    "for k in range(50):\n",
    "    escalera=plt.imread(lista[k])\n",
    "    if(k%2==0):\n",
    "        aux = [1]\n",
    "    else:\n",
    "        aux=[0]\n",
    "    for i in range(5):\n",
    "        for j in range(5):\n",
    "            if list(escalera[i][j]) == [0,0,0]:\n",
    "                aux.append(0)\n",
    "            else:\n",
    "                aux.append(1)\n",
    "                \n",
    "    datos[k]=aux"
   ]
  },
  {
   "cell_type": "code",
   "execution_count": 23,
   "id": "ba664e5a",
   "metadata": {},
   "outputs": [],
   "source": [
    "n = neuralNetwork(nodosent,nodosocu,nodossal,aprendizaje)\n",
    "\n",
    "for k in range(50):\n",
    "    #escalamos los datos de entrada\n",
    "    entrada_escalada=datos[k][1:]*0.99+0.01\n",
    "    objetivos=numpy.zeros(nodossal)+0.01\n",
    "    objetivos[int(datos[k,0])]=0.99\n",
    "    n.entrena(entrada_escalada,objetivos)\n",
    "    pass"
   ]
  },
  {
   "cell_type": "code",
   "execution_count": 24,
   "id": "6f97d09f",
   "metadata": {},
   "outputs": [],
   "source": [
    "lista_test=[\"\"]\n",
    "for k in range(1,11):\n",
    "    au=\"SI_TEST\"+str(k)+\".png\"\n",
    "    lista_test.append(au)\n",
    "    au=\"NO_TEST\"+str(k)+\".png\"\n",
    "    lista_test.append(au)\n",
    "lista_test=numpy.delete(lista_test,0)\n",
    "\n",
    "datos_test=numpy.empty((20,26))\n",
    "for k in range(20):\n",
    "    escalera=plt.imread(lista_test[k])\n",
    "    if(k%2==0):\n",
    "        aux = [1]\n",
    "    else:\n",
    "        aux=[0]\n",
    "    for i in range(5):\n",
    "        for j in range(5):\n",
    "            if list(escalera[i][j]) == [0,0,0]:\n",
    "                aux.append(0)\n",
    "            else:\n",
    "                aux.append(1)\n",
    "                \n",
    "    datos_test[k]=aux"
   ]
  },
  {
   "cell_type": "code",
   "execution_count": 25,
   "id": "a5f67096",
   "metadata": {},
   "outputs": [
    {
     "name": "stdout",
     "output_type": "stream",
     "text": [
      "1 etiqueta correcta\n",
      "1 respuesta de la red neuronal\n",
      "0 etiqueta correcta\n",
      "0 respuesta de la red neuronal\n",
      "1 etiqueta correcta\n",
      "1 respuesta de la red neuronal\n",
      "0 etiqueta correcta\n",
      "0 respuesta de la red neuronal\n",
      "1 etiqueta correcta\n",
      "0 respuesta de la red neuronal\n",
      "0 etiqueta correcta\n",
      "0 respuesta de la red neuronal\n",
      "1 etiqueta correcta\n",
      "1 respuesta de la red neuronal\n",
      "0 etiqueta correcta\n",
      "1 respuesta de la red neuronal\n",
      "1 etiqueta correcta\n",
      "1 respuesta de la red neuronal\n",
      "0 etiqueta correcta\n",
      "0 respuesta de la red neuronal\n",
      "1 etiqueta correcta\n",
      "1 respuesta de la red neuronal\n",
      "0 etiqueta correcta\n",
      "0 respuesta de la red neuronal\n",
      "1 etiqueta correcta\n",
      "1 respuesta de la red neuronal\n",
      "0 etiqueta correcta\n",
      "0 respuesta de la red neuronal\n",
      "1 etiqueta correcta\n",
      "1 respuesta de la red neuronal\n",
      "0 etiqueta correcta\n",
      "0 respuesta de la red neuronal\n",
      "1 etiqueta correcta\n",
      "1 respuesta de la red neuronal\n",
      "0 etiqueta correcta\n",
      "1 respuesta de la red neuronal\n",
      "1 etiqueta correcta\n",
      "1 respuesta de la red neuronal\n",
      "0 etiqueta correcta\n",
      "0 respuesta de la red neuronal\n"
     ]
    }
   ],
   "source": [
    "tanteo=[]\n",
    "for k in range(20):\n",
    "    etiqueta_correcta = int(datos_test[k,0])\n",
    "    print(etiqueta_correcta, \"etiqueta correcta\")\n",
    "    entradas=datos_test[k][1:]*0.99+0.01\n",
    "    salidas=n.prob(entradas)\n",
    "    etiqueta=numpy.argmax(salidas)\n",
    "    print(etiqueta,\"respuesta de la red neuronal\")\n",
    "    if (etiqueta == etiqueta_correcta):\n",
    "        tanteo.append(1)\n",
    "    else:\n",
    "        tanteo.append(0)\n",
    "        pass\n",
    "    pass "
   ]
  },
  {
   "cell_type": "code",
   "execution_count": 26,
   "id": "03bfbfe8",
   "metadata": {},
   "outputs": [
    {
     "data": {
      "text/plain": [
       "20"
      ]
     },
     "execution_count": 26,
     "metadata": {},
     "output_type": "execute_result"
    }
   ],
   "source": [
    "len(tanteo)"
   ]
  },
  {
   "cell_type": "code",
   "execution_count": 27,
   "id": "f331bfda",
   "metadata": {},
   "outputs": [
    {
     "name": "stdout",
     "output_type": "stream",
     "text": [
      "rendimiento=  0.85\n"
     ]
    }
   ],
   "source": [
    "tanteo_array=numpy.asarray(tanteo)\n",
    "print(\"rendimiento= \",tanteo_array.sum()/tanteo_array.size)"
   ]
  },
  {
   "cell_type": "code",
   "execution_count": 30,
   "id": "10fdc954",
   "metadata": {},
   "outputs": [
    {
     "data": {
      "text/plain": [
       "<matplotlib.image.AxesImage at 0x2372285afa0>"
      ]
     },
     "execution_count": 30,
     "metadata": {},
     "output_type": "execute_result"
    },
    {
     "data": {
      "image/png": "[encoded data removed]",
      "text/plain": [
       "<Figure size 432x288 with 1 Axes>"
      ]
     },
     "metadata": {
      "needs_background": "light"
     },
     "output_type": "display_data"
    }
   ],
   "source": [
    "prueba1=plt.imread(\"pruebasi.png\")\n",
    "plt.imshow(prueba1, cmap='Greys',\n",
    "interpolation='None')"
   ]
  },
  {
   "cell_type": "code",
   "execution_count": 32,
   "id": "5ffa9241",
   "metadata": {},
   "outputs": [
    {
     "name": "stdout",
     "output_type": "stream",
     "text": [
      "Si es una escalera\n"
     ]
    }
   ],
   "source": [
    "aux=[]\n",
    "for i in range(5):\n",
    "    for j in range(5):\n",
    "        if list(prueba1[i][j]) == [0,0,0]:\n",
    "            aux.append(0)\n",
    "        else:\n",
    "            aux.append(1)\n",
    "prueba1=aux\n",
    "salida1=n.prob(prueba1)\n",
    "etiq1=numpy.argmax(salida1)\n",
    "if(etiq1==1):\n",
    "    print(\"Si es una escalera\")\n",
    "else:\n",
    "    print(\"No es una escalera\")"
   ]
  },
  {
   "cell_type": "code",
   "execution_count": 74,
   "id": "b90ea47f",
   "metadata": {},
   "outputs": [
    {
     "data": {
      "text/plain": [
       "<matplotlib.image.AxesImage at 0x23724129490>"
      ]
     },
     "execution_count": 74,
     "metadata": {},
     "output_type": "execute_result"
    },
    {
     "data": {
      "image/png": "[encoded data removed]",
      "text/plain": [
       "<Figure size 432x288 with 1 Axes>"
      ]
     },
     "metadata": {
      "needs_background": "light"
     },
     "output_type": "display_data"
    }
   ],
   "source": [
    "prueba2=plt.imread(\"pruebano.png\")\n",
    "plt.imshow(prueba2, cmap='Greys',\n",
    "interpolation='None')"
   ]
  },
  {
   "cell_type": "code",
   "execution_count": 75,
   "id": "bedcc533",
   "metadata": {},
   "outputs": [
    {
     "name": "stdout",
     "output_type": "stream",
     "text": [
      "No es una escalera\n"
     ]
    }
   ],
   "source": [
    "aux=[]\n",
    "for i in range(5):\n",
    "    for j in range(5):\n",
    "        if list(prueba2[i][j]) == [0,0,0]:\n",
    "            aux.append(0)\n",
    "        else:\n",
    "            aux.append(1)\n",
    "prueba2=aux\n",
    "salida2=n.prob(prueba2)\n",
    "etiq2=numpy.argmax(salida2)\n",
    "if(etiq2==1):\n",
    "    print(\"Si es una escalera\")\n",
    "else:\n",
    "    print(\"No es una escalera\")"
   ]
  }
 ],
 "metadata": {
  "kernelspec": {
   "display_name": "Python 3",
   "language": "python",
   "name": "python3"
  },
  "language_info": {
   "codemirror_mode": {
    "name": "ipython",
    "version": 3
   },
   "file_extension": ".py",
   "mimetype": "text/x-python",
   "name": "python",
   "nbconvert_exporter": "python",
   "pygments_lexer": "ipython3",
   "version": "3.8.8"
  }
 },
 "nbformat": 4,
 "nbformat_minor": 5
}
